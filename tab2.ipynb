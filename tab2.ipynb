{
 "cells": [
  {
   "cell_type": "code",
   "execution_count": null,
   "id": "e0fe6327-522f-4e30-ab17-945af8538944",
   "metadata": {},
   "outputs": [],
   "source": [
    "from dash import html\n",
    "from dash import dcc\n",
    "import plotly.graph_objects as go\n",
    "\n",
    "def render_tab(df):\n",
    "\n",
    "    # Wykres kołowy ze strukturą sprzedaży wg podstawowych grup produktów jest statyczny i nie zależy od żadnego innego widgetu.\n",
    "    # Z tego powodu będziemy mogli stworzyć go w tym samym miejscu, co layout.\n",
    "    \n",
    "    # df[df['total_amt']>0] - wybieramy wiersze z 'df' gdzie wartość 'total_amt' jest większa od 0\n",
    "    # Grupujemy wybrane wiersze według kolumny 'prod_cat' i sumujemy wartości w kolumnie 'total_amt'\n",
    "    # Tworzymy wykres kołowy Pie\n",
    "    # Dane do wykresu przekazywane są poprzez argumenty 'labels' i 'values' funkcji 'go.Pie'\n",
    "    \n",
    "    grouped = df[df['total_amt']>0].groupby('prod_cat')['total_amt'].sum()\n",
    "    fig = go.Figure(data=[go.Pie(labels=grouped.index,values=grouped.values)],layout=go.Layout(title='Udział grup produktów w sprzedaży'))\n",
    "\n",
    "    layout = html.Div([html.H1('Produkty',style={'text-align':'center'}),\n",
    "\n",
    "                        # Kontener główny zawiera 2 podkontenery html.Div ułożone obok siebie\n",
    "                        # Ustawienie stylu 'display':'flex' oznacza, że elementy w tych podkontenerach będą ułożone w linii poziomej\n",
    "                        # pierwszym wykresem będzie wykres kołowy, który został utworzony w zmiennej 'fig'. 'Figure' oznacza wizualizację danych\n",
    "                        html.Div([html.Div([dcc.Graph(id='pie-prod-cat',figure=fig)],style={'width':'50%'}),\n",
    "                        html.Div([dcc.Dropdown(id='prod_dropdown',\n",
    "                                    options=[{'label':prod_cat,'value':prod_cat} for prod_cat in df['prod_cat'].unique()],\n",
    "                                    value=df['prod_cat'].unique()[0]),\n",
    "                                    dcc.Graph(id='barh-prod-subcat')],style={'width':'50%'})],style={'display':'flex'}),\n",
    "                                    html.Div(id='temp-out')\n",
    "                        ])\n",
    "\n",
    "    return layout"
   ]
  }
 ],
 "metadata": {
  "kernelspec": {
   "display_name": "Python 3 (ipykernel)",
   "language": "python",
   "name": "python3"
  },
  "language_info": {
   "codemirror_mode": {
    "name": "ipython",
    "version": 3
   },
   "file_extension": ".py",
   "mimetype": "text/x-python",
   "name": "python",
   "nbconvert_exporter": "python",
   "pygments_lexer": "ipython3",
   "version": "3.9.2"
  }
 },
 "nbformat": 4,
 "nbformat_minor": 5
}
