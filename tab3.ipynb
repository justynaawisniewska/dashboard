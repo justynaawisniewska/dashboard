{
 "cells": [
  {
   "cell_type": "code",
   "execution_count": null,
   "id": "20c84130-af33-4bea-ba70-453430cb9a13",
   "metadata": {},
   "outputs": [],
   "source": [
    "from dash import html\n",
    "from dash import dcc\n",
    "import plotly.graph_objects as go\n",
    "\n",
    "def render_tab(df):\n",
    "    # Grupowanie danych sprzedażowych według kanałów sprzedaży i dni tygodnia\n",
    "    grouped = df.groupby(['Store_type', df['tran_date'].dt.day_name()])['total_amt'].sum().reset_index()\n",
    "\n",
    "    # Tworzenie wykresu słupkowego dla każdego kanału sprzedaży\n",
    "    bar_data = []\n",
    "    for store_type in grouped['Store_type'].unique():\n",
    "        store_data = grouped[grouped['Store_type'] == store_type]\n",
    "        bar_data.append(go.Bar(x=store_data['tran_date'], y=store_data['total_amt'], name=store_type))\n",
    "\n",
    "    # Ustawienia układu Dash\n",
    "    layout = html.Div([\n",
    "        html.H1('Sprzedaż według kanałów sprzedaży', style={'text-align': 'center'}),\n",
    "        dcc.Graph(id='bar-sales-store-type', figure={'data': bar_data}),\n",
    "    ])\n",
    "\n",
    "    return layout"
   ]
  }
 ],
 "metadata": {
  "kernelspec": {
   "display_name": "Python 3 (ipykernel)",
   "language": "python",
   "name": "python3"
  },
  "language_info": {
   "codemirror_mode": {
    "name": "ipython",
    "version": 3
   },
   "file_extension": ".py",
   "mimetype": "text/x-python",
   "name": "python",
   "nbconvert_exporter": "python",
   "pygments_lexer": "ipython3",
   "version": "3.9.2"
  }
 },
 "nbformat": 4,
 "nbformat_minor": 5
}
